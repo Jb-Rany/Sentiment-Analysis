{
  "nbformat": 4,
  "nbformat_minor": 0,
  "metadata": {
    "colab": {
      "name": "Sentiment Analysis.ipynb",
      "provenance": [],
      "collapsed_sections": []
    },
    "kernelspec": {
      "name": "python3",
      "display_name": "Python 3"
    },
    "language_info": {
      "name": "python"
    },
    "accelerator": "GPU"
  },
  "cells": [
    {
      "cell_type": "code",
      "metadata": {
        "id": "ilSIo93bgIMk"
      },
      "source": [
        "from google.colab import drive\n",
        "drive.mount('/content/drive')"
      ],
      "execution_count": null,
      "outputs": []
    },
    {
      "cell_type": "markdown",
      "metadata": {
        "id": "FVOQ3urTr1cC"
      },
      "source": [
        "***Download Packages***"
      ]
    },
    {
      "cell_type": "code",
      "metadata": {
        "id": "-UU-3-FLhOTU"
      },
      "source": [
        "import nltk\n",
        "nltk.download('all')"
      ],
      "execution_count": null,
      "outputs": []
    },
    {
      "cell_type": "code",
      "metadata": {
        "id": "bwTArGpRhsiU"
      },
      "source": [
        "!pip install nlpaug"
      ],
      "execution_count": null,
      "outputs": []
    },
    {
      "cell_type": "markdown",
      "metadata": {
        "id": "yT7877SMbfW0"
      },
      "source": [
        "***Imports***"
      ]
    },
    {
      "cell_type": "code",
      "metadata": {
        "id": "uaU798lez-Fl"
      },
      "source": [
        "import pandas as pd\n",
        "import numpy as np\n",
        "import matplotlib.pyplot as plt\n",
        "from tensorflow.keras.preprocessing import sequence\n",
        "from tensorflow.keras.optimizers import RMSprop\n",
        "\n",
        "from nltk.corpus import stopwords\n",
        "from nltk.util import ngrams\n",
        "stop=set(stopwords.words('english'))\n",
        "\n",
        "import nlpaug.augmenter.char as nac\n",
        "import nlpaug.augmenter.word as naw\n",
        "import nlpaug.augmenter.sentence as nas\n",
        "import nlpaug.flow as naf\n",
        "\n",
        "from nlpaug.util import Action"
      ],
      "execution_count": null,
      "outputs": []
    },
    {
      "cell_type": "markdown",
      "metadata": {
        "id": "kWGs9fWZbuOR"
      },
      "source": [
        "#Data Preprocessing"
      ]
    },
    {
      "cell_type": "code",
      "metadata": {
        "id": "QbA2pVV50V9B"
      },
      "source": [
        "data = pd.read_csv('/content/drive/MyDrive/Colab Notebooks/Dataset.csv')"
      ],
      "execution_count": null,
      "outputs": []
    },
    {
      "cell_type": "code",
      "metadata": {
        "colab": {
          "base_uri": "https://localhost:8080/"
        },
        "id": "NTB-_-l2x0QA",
        "outputId": "a5b63ae0-74a0-4ed8-debf-9eb0e8b3ce25"
      },
      "source": [
        "data.shape"
      ],
      "execution_count": null,
      "outputs": [
        {
          "output_type": "execute_result",
          "data": {
            "text/plain": [
              "(151, 24)"
            ]
          },
          "metadata": {},
          "execution_count": 34
        }
      ]
    },
    {
      "cell_type": "code",
      "metadata": {
        "colab": {
          "base_uri": "https://localhost:8080/"
        },
        "id": "9KXn2GCjxxMB",
        "outputId": "2d2146bf-ff81-4712-dcec-88ea4fb3f7a6"
      },
      "source": [
        "data.isnull().sum()"
      ],
      "execution_count": null,
      "outputs": [
        {
          "output_type": "execute_result",
          "data": {
            "text/plain": [
              "Statistiques horaires      0\n",
              "Page                       0\n",
              "Catégorie d'appareil       0\n",
              "Pays                       0\n",
              "Pages views                0\n",
              "Vues uniques               0\n",
              "Average visit time         0\n",
              "Entries                    0\n",
              "Rebound rate               0\n",
              "Departures (in%)           0\n",
              "Session Lenght             0\n",
              "TimeToClickInMS            0\n",
              "SpeedIndex                 0\n",
              "TTFB                       0\n",
              "OnLoad                     0\n",
              "FirstPaint                 0\n",
              "MOS                        0\n",
              "net_delay                  0\n",
              "latency                    0\n",
              "bandwidht                  0\n",
              "jitter                     0\n",
              "id_video                   0\n",
              "Comment                    0\n",
              "Unnamed: 23              151\n",
              "dtype: int64"
            ]
          },
          "metadata": {},
          "execution_count": 35
        }
      ]
    },
    {
      "cell_type": "code",
      "metadata": {
        "colab": {
          "base_uri": "https://localhost:8080/",
          "height": 338
        },
        "id": "hMSQSP-0thOt",
        "outputId": "bcba67a4-0664-44bf-86c7-0fb41405f5bf"
      },
      "source": [
        "import seaborn as sns\n",
        "\n",
        "x=data.MOS.value_counts()\n",
        "sns.barplot(x.index, x)\n",
        "plt.gca().set_ylabel('samples')"
      ],
      "execution_count": null,
      "outputs": [
        {
          "output_type": "stream",
          "name": "stderr",
          "text": [
            "/usr/local/lib/python3.7/dist-packages/seaborn/_decorators.py:43: FutureWarning: Pass the following variables as keyword args: x, y. From version 0.12, the only valid positional argument will be `data`, and passing other arguments without an explicit keyword will result in an error or misinterpretation.\n",
            "  FutureWarning\n"
          ]
        },
        {
          "output_type": "execute_result",
          "data": {
            "text/plain": [
              "Text(0, 0.5, 'samples')"
            ]
          },
          "metadata": {},
          "execution_count": 36
        },
        {
          "output_type": "display_data",
          "data": {
            "image/png": "[encoded data removed]",
            "text/plain": [
              "<Figure size 432x288 with 1 Axes>"
            ]
          },
          "metadata": {
            "needs_background": "light"
          }
        }
      ]
    },
    {
      "cell_type": "markdown",
      "metadata": {
        "id": "GizB9KLwt1Wh"
      },
      "source": [
        "As you can see, there more comments with a MOS 4 than the other classes: Our data is unbalanced"
      ]
    },
    {
      "cell_type": "code",
      "metadata": {
        "id": "9CMAeT-Bw_4y"
      },
      "source": [
        "train = data['Comment']\n",
        "target = data['MOS']"
      ],
      "execution_count": null,
      "outputs": []
    },
    {
      "cell_type": "markdown",
      "metadata": {
        "id": "3pqtTfVw724z"
      },
      "source": [
        "***Data Augmentation***"
      ]
    },
    {
      "cell_type": "code",
      "metadata": {
        "id": "XtgpWoojRq7Y"
      },
      "source": [
        "aug = naw.SynonymAug(aug_src='wordnet',aug_max=10)"
      ],
      "execution_count": null,
      "outputs": []
    },
    {
      "cell_type": "code",
      "metadata": {
        "id": "us1Sgz_4U3tB"
      },
      "source": [
        "def augment_text(df, label, num=1):\n",
        "  augmented_sentences=[]\n",
        "  augmented_sentences_labels=[]\n",
        "  for i in df.index:\n",
        "    if target[i]==label:\n",
        "      temps=aug.augment(df[i],n=num)\n",
        "      for sent in temps:\n",
        "        augmented_sentences.append(sent)\n",
        "        augmented_sentences_labels.append(label)\n",
        "  return augmented_sentences, augmented_sentences_labels"
      ],
      "execution_count": null,
      "outputs": []
    },
    {
      "cell_type": "code",
      "metadata": {
        "id": "z4wd7O1viBZS"
      },
      "source": [
        "mos1, target1 = augment_text(train, 1, num=30)\n",
        "train = train.append(pd.Series(mos1), ignore_index=True)\n",
        "target = target.append(pd.Series(target1), ignore_index=True)\n",
        "\n",
        "mos2, target2 = augment_text(train, 2, num=35)\n",
        "train = train.append(pd.Series(mos2), ignore_index=True)\n",
        "target = target.append(pd.Series(target2), ignore_index=True)\n",
        "\n",
        "mos3, target3 = augment_text(train, 3, num=2)\n",
        "train = train.append(pd.Series(mos3), ignore_index=True)\n",
        "target = target.append(pd.Series(target3), ignore_index=True)"
      ],
      "execution_count": null,
      "outputs": []
    },
    {
      "cell_type": "code",
      "metadata": {
        "colab": {
          "base_uri": "https://localhost:8080/"
        },
        "id": "wmaiz69KmV_M",
        "outputId": "ce1a33de-8206-41a8-e33b-b6527728742c"
      },
      "source": [
        "print(f\"Train shape: {train.shape}\")\n",
        "print(f\"Target shape: {target.shape}\")"
      ],
      "execution_count": null,
      "outputs": [
        {
          "output_type": "stream",
          "name": "stdout",
          "text": [
            "Train shape: (331,)\n",
            "Target shape: (331,)\n"
          ]
        }
      ]
    },
    {
      "cell_type": "code",
      "metadata": {
        "colab": {
          "base_uri": "https://localhost:8080/"
        },
        "id": "yLHiK3NBpObK",
        "outputId": "1da54730-9030-4598-a06f-c209d4f9e6d3"
      },
      "source": [
        "data_augmented = pd.DataFrame({'Comment': train,\n",
        "                               'MOS': target})\n",
        "\n",
        "#We will shuffle the data and remove duplicates before splitting\n",
        "data_augmented.drop_duplicates(inplace=True)\n",
        "data_augmented = data_augmented.sample(frac = 1).reset_index(drop=True)\n",
        "data_augmented.shape"
      ],
      "execution_count": null,
      "outputs": [
        {
          "output_type": "execute_result",
          "data": {
            "text/plain": [
              "(262, 2)"
            ]
          },
          "metadata": {},
          "execution_count": 42
        }
      ]
    },
    {
      "cell_type": "code",
      "metadata": {
        "colab": {
          "base_uri": "https://localhost:8080/",
          "height": 336
        },
        "id": "hWzIQfF4qBQI",
        "outputId": "eb6bd65b-96f7-41c3-be36-a445634bfd86"
      },
      "source": [
        "x=data_augmented.MOS.value_counts()\n",
        "sns.barplot(x.index, x)\n",
        "plt.gca().set_ylabel('samples')"
      ],
      "execution_count": null,
      "outputs": [
        {
          "output_type": "stream",
          "name": "stderr",
          "text": [
            "/usr/local/lib/python3.7/dist-packages/seaborn/_decorators.py:43: FutureWarning: Pass the following variables as keyword args: x, y. From version 0.12, the only valid positional argument will be `data`, and passing other arguments without an explicit keyword will result in an error or misinterpretation.\n",
            "  FutureWarning\n"
          ]
        },
        {
          "output_type": "execute_result",
          "data": {
            "text/plain": [
              "Text(0, 0.5, 'samples')"
            ]
          },
          "metadata": {},
          "execution_count": 43
        },
        {
          "output_type": "display_data",
          "data": {
            "image/png": "[encoded data removed]",
            "text/plain": [
              "<Figure size 432x288 with 1 Axes>"
            ]
          },
          "metadata": {
            "needs_background": "light"
          }
        }
      ]
    },
    {
      "cell_type": "code",
      "metadata": {
        "id": "9f69pvWusKZG"
      },
      "source": [
        "!pip uninstall pandas\n",
        "!pip install pandas==1.1.5\n",
        "\n",
        "data_augmented.to_csv('/content/drive/MyDrive/Colab Notebooks/data_augmented.csv', index=False)"
      ],
      "execution_count": null,
      "outputs": []
    },
    {
      "cell_type": "code",
      "metadata": {
        "id": "jeCje2QlqUzH"
      },
      "source": [
        "train = data_augmented['Comment']\n",
        "target = data_augmented['MOS']"
      ],
      "execution_count": null,
      "outputs": []
    },
    {
      "cell_type": "code",
      "metadata": {
        "id": "-i92UUVi3IUx"
      },
      "source": [
        "from tensorflow.keras.utils import to_categorical\n",
        "target = to_categorical(target)\n",
        "target = np.array(target).astype('float32')"
      ],
      "execution_count": null,
      "outputs": []
    },
    {
      "cell_type": "markdown",
      "metadata": {
        "id": "5ii23UnakEGz"
      },
      "source": [
        "***Preparing our Data***\n",
        "\n",
        "We will turn our text into lists of integer indices"
      ]
    },
    {
      "cell_type": "code",
      "metadata": {
        "id": "j9IDFgHj2CTo"
      },
      "source": [
        "from tensorflow.keras.preprocessing.text import Tokenizer\n",
        "\n",
        "samples = train\n",
        "\n",
        "#Create a tokenizer configured to take the 1000 most common words\n",
        "tokenizer = Tokenizer(num_words=1000)\n",
        "#Build the word index\n",
        "tokenizer.fit_on_texts(samples)\n",
        "#Turn strings into lists of integer indices\n",
        "sequences = tokenizer.texts_to_sequences(samples)\n",
        "#get the one-hot binary representations\n",
        "one_hot_results = tokenizer.texts_to_matrix(samples, mode=\"binary\")\n",
        "\n",
        "#Recover the word index\n",
        "word_index = tokenizer.word_index"
      ],
      "execution_count": null,
      "outputs": []
    },
    {
      "cell_type": "markdown",
      "metadata": {
        "id": "9pDIYLA5clIL"
      },
      "source": [
        "***Data Splitting***"
      ]
    },
    {
      "cell_type": "code",
      "metadata": {
        "id": "rUsoGcMC09gN"
      },
      "source": [
        "x_train = sequences[:200]\n",
        "y_train = target[:200]\n",
        "\n",
        "x_test = sequences[200:]\n",
        "y_test = target[200:]"
      ],
      "execution_count": null,
      "outputs": []
    },
    {
      "cell_type": "code",
      "metadata": {
        "colab": {
          "base_uri": "https://localhost:8080/"
        },
        "id": "1rr3jwpL8jWD",
        "outputId": "4eaf341e-1570-455f-a8ea-289604e6d80a"
      },
      "source": [
        "print(f'Training data shape: {len(x_train)}')\n",
        "print(f'Testing data shape: {len(x_test)}')"
      ],
      "execution_count": null,
      "outputs": [
        {
          "output_type": "stream",
          "name": "stdout",
          "text": [
            "Training data shape: 200\n",
            "Testing data shape: 62\n"
          ]
        }
      ]
    },
    {
      "cell_type": "code",
      "metadata": {
        "id": "BGhN9Hmc0psG"
      },
      "source": [
        "max_features = 10000\n",
        "max_len = 500"
      ],
      "execution_count": null,
      "outputs": []
    },
    {
      "cell_type": "markdown",
      "metadata": {
        "id": "RGX8gGhpc2LP"
      },
      "source": [
        "We will **Pad** our Data so that they all have the same length, **turn them into an integer tensor of shape (samples, word_indices)**, and then use as the first layer in your network a layer capable of handling such integer tensors(**Embedding layer** in our case)"
      ]
    },
    {
      "cell_type": "code",
      "metadata": {
        "id": "5I0r6pc14yM4"
      },
      "source": [
        "x_train = sequence.pad_sequences(x_train, maxlen=max_len)\n",
        "x_test = sequence.pad_sequences(x_test, maxlen=max_len)"
      ],
      "execution_count": null,
      "outputs": []
    },
    {
      "cell_type": "markdown",
      "metadata": {
        "id": "ZAOol4ySdTeu"
      },
      "source": [
        "Loading & Preparing GloVe for word representation"
      ]
    },
    {
      "cell_type": "code",
      "metadata": {
        "colab": {
          "base_uri": "https://localhost:8080/"
        },
        "id": "hpyond6p7n-d",
        "outputId": "1c7f6110-e822-4073-be6a-128de76b7bfa"
      },
      "source": [
        "import os \n",
        "\n",
        "#Parsing the GloVe word-embeddings file\n",
        "\n",
        "embeddings_index = {}\n",
        "f = open( '/content/drive/MyDrive/GloVe/glove.6B.100d.txt')\n",
        "\n",
        "for line in f:\n",
        "  values = line.split()\n",
        "  word = values[0]\n",
        "  coefs = np.asarray(values[1:], dtype='float32')\n",
        "  embeddings_index[word] = coefs\n",
        "f.close()\n",
        "\n",
        "print('Found %s word vectors.' % len(embeddings_index))\n",
        "\n",
        "#Preparing the GloVe word-embeddings matrix\n",
        "embedding_dim = 100\n",
        "\n",
        "embedding_matrix = np.zeros((max_features, embedding_dim))\n",
        "\n",
        "for word, i in word_index.items():\n",
        "  if i < max_features:\n",
        "    embedding_vector = embeddings_index.get(word)\n",
        "    if embedding_vector is not None:\n",
        "      embedding_matrix[i] = embedding_vector"
      ],
      "execution_count": null,
      "outputs": [
        {
          "output_type": "stream",
          "name": "stdout",
          "text": [
            "Found 400000 word vectors.\n"
          ]
        }
      ]
    },
    {
      "cell_type": "markdown",
      "metadata": {
        "id": "YYBGQpnAdOcP"
      },
      "source": [
        "#Building & Training the Model"
      ]
    },
    {
      "cell_type": "code",
      "metadata": {
        "id": "P15QSpmP1OaQ"
      },
      "source": [
        "from keras.models import Sequential\n",
        "from keras import layers\n",
        "\n",
        "model = Sequential()\n",
        "model.add(layers.Embedding(max_features, 100, input_length=max_len))\n",
        "\n",
        "model.add(layers.Conv1D(32, 7, activation='relu'))\n",
        "model.add(layers.MaxPooling1D(5))\n",
        "model.add(layers.Dropout(0.2))\n",
        "model.add(layers.Conv1D(64, 7,activation='relu'))\n",
        "\n",
        "model.add(layers.GRU(64))\n",
        "\n",
        "model.add(layers.Dense(6, activation=\"softmax\"))"
      ],
      "execution_count": null,
      "outputs": []
    },
    {
      "cell_type": "markdown",
      "metadata": {
        "id": "BsqRbQl8edWb"
      },
      "source": [
        "Our model is ready. Let's freeze the Embedding layer to avoid loosing the learned information"
      ]
    },
    {
      "cell_type": "code",
      "metadata": {
        "id": "Pq5rVyuq8n1U"
      },
      "source": [
        "model.layers[0].set_weights([embedding_matrix])\n",
        "model.layers[0].trainable = False"
      ],
      "execution_count": null,
      "outputs": []
    },
    {
      "cell_type": "markdown",
      "metadata": {
        "id": "HVNQierwi9Hq"
      },
      "source": [
        "***Training***"
      ]
    },
    {
      "cell_type": "code",
      "metadata": {
        "id": "rprHkSnn2wK6",
        "colab": {
          "base_uri": "https://localhost:8080/"
        },
        "outputId": "d924f0ec-b59a-48fb-d7a2-64f5033c8289"
      },
      "source": [
        "model.summary()\n",
        "\n",
        "opt = RMSprop(learning_rate=0.0001)\n",
        "\n",
        "model.compile(optimizer=opt,\n",
        "              loss='categorical_crossentropy',\n",
        "              metrics=['acc'])\n",
        "\n",
        "history = model.fit(x_train, y_train,\n",
        "                    epochs=100,\n",
        "                    batch_size=32)"
      ],
      "execution_count": null,
      "outputs": [
        {
          "output_type": "stream",
          "name": "stdout",
          "text": [
            "Model: \"sequential_4\"\n",
            "_________________________________________________________________\n",
            "Layer (type)                 Output Shape              Param #   \n",
            "=================================================================\n",
            "embedding_4 (Embedding)      (None, 500, 100)          1000000   \n",
            "_________________________________________________________________\n",
            "conv1d_8 (Conv1D)            (None, 494, 32)           22432     \n",
            "_________________________________________________________________\n",
            "max_pooling1d_5 (MaxPooling1 (None, 98, 32)            0         \n",
            "_________________________________________________________________\n",
            "dropout_4 (Dropout)          (None, 98, 32)            0         \n",
            "_________________________________________________________________\n",
            "conv1d_9 (Conv1D)            (None, 92, 64)            14400     \n",
            "_________________________________________________________________\n",
            "gru_4 (GRU)                  (None, 64)                24960     \n",
            "_________________________________________________________________\n",
            "dense_4 (Dense)              (None, 6)                 390       \n",
            "=================================================================\n",
            "Total params: 1,062,182\n",
            "Trainable params: 62,182\n",
            "Non-trainable params: 1,000,000\n",
            "_________________________________________________________________\n",
            "Epoch 1/100\n",
            "7/7 [==============================] - 3s 34ms/step - loss: 1.8146 - acc: 0.1750\n",
            "Epoch 2/100\n",
            "7/7 [==============================] - 0s 24ms/step - loss: 1.7769 - acc: 0.2800\n",
            "Epoch 3/100\n",
            "7/7 [==============================] - 0s 24ms/step - loss: 1.7451 - acc: 0.3350\n",
            "Epoch 4/100\n",
            "7/7 [==============================] - 0s 24ms/step - loss: 1.7293 - acc: 0.3200\n",
            "Epoch 5/100\n",
            "7/7 [==============================] - 0s 23ms/step - loss: 1.7060 - acc: 0.4100\n",
            "Epoch 6/100\n",
            "7/7 [==============================] - 0s 23ms/step - loss: 1.6910 - acc: 0.4100\n",
            "Epoch 7/100\n",
            "7/7 [==============================] - 0s 23ms/step - loss: 1.6675 - acc: 0.4200\n",
            "Epoch 8/100\n",
            "7/7 [==============================] - 0s 22ms/step - loss: 1.6628 - acc: 0.4000\n",
            "Epoch 9/100\n",
            "7/7 [==============================] - 0s 23ms/step - loss: 1.6460 - acc: 0.4200\n",
            "Epoch 10/100\n",
            "7/7 [==============================] - 0s 24ms/step - loss: 1.6288 - acc: 0.4150\n",
            "Epoch 11/100\n",
            "7/7 [==============================] - 0s 24ms/step - loss: 1.6163 - acc: 0.4150\n",
            "Epoch 12/100\n",
            "7/7 [==============================] - 0s 23ms/step - loss: 1.5916 - acc: 0.4400\n",
            "Epoch 13/100\n",
            "7/7 [==============================] - 0s 23ms/step - loss: 1.5781 - acc: 0.4350\n",
            "Epoch 14/100\n",
            "7/7 [==============================] - 0s 23ms/step - loss: 1.5662 - acc: 0.4150\n",
            "Epoch 15/100\n",
            "7/7 [==============================] - 0s 25ms/step - loss: 1.5417 - acc: 0.4450\n",
            "Epoch 16/100\n",
            "7/7 [==============================] - 0s 23ms/step - loss: 1.5315 - acc: 0.4050\n",
            "Epoch 17/100\n",
            "7/7 [==============================] - 0s 23ms/step - loss: 1.5144 - acc: 0.4100\n",
            "Epoch 18/100\n",
            "7/7 [==============================] - 0s 24ms/step - loss: 1.4914 - acc: 0.4250\n",
            "Epoch 19/100\n",
            "7/7 [==============================] - 0s 24ms/step - loss: 1.4787 - acc: 0.4300\n",
            "Epoch 20/100\n",
            "7/7 [==============================] - 0s 24ms/step - loss: 1.4742 - acc: 0.4350\n",
            "Epoch 21/100\n",
            "7/7 [==============================] - 0s 24ms/step - loss: 1.4513 - acc: 0.4550\n",
            "Epoch 22/100\n",
            "7/7 [==============================] - 0s 24ms/step - loss: 1.4285 - acc: 0.4600\n",
            "Epoch 23/100\n",
            "7/7 [==============================] - 0s 24ms/step - loss: 1.4176 - acc: 0.4350\n",
            "Epoch 24/100\n",
            "7/7 [==============================] - 0s 24ms/step - loss: 1.3990 - acc: 0.4600\n",
            "Epoch 25/100\n",
            "7/7 [==============================] - 0s 24ms/step - loss: 1.3909 - acc: 0.4750\n",
            "Epoch 26/100\n",
            "7/7 [==============================] - 0s 25ms/step - loss: 1.3691 - acc: 0.4800\n",
            "Epoch 27/100\n",
            "7/7 [==============================] - 0s 24ms/step - loss: 1.3582 - acc: 0.4800\n",
            "Epoch 28/100\n",
            "7/7 [==============================] - 0s 24ms/step - loss: 1.3289 - acc: 0.5100\n",
            "Epoch 29/100\n",
            "7/7 [==============================] - 0s 25ms/step - loss: 1.3174 - acc: 0.4850\n",
            "Epoch 30/100\n",
            "7/7 [==============================] - 0s 25ms/step - loss: 1.3010 - acc: 0.5000\n",
            "Epoch 31/100\n",
            "7/7 [==============================] - 0s 23ms/step - loss: 1.2978 - acc: 0.5100\n",
            "Epoch 32/100\n",
            "7/7 [==============================] - 0s 24ms/step - loss: 1.2846 - acc: 0.5250\n",
            "Epoch 33/100\n",
            "7/7 [==============================] - 0s 24ms/step - loss: 1.2615 - acc: 0.5200\n",
            "Epoch 34/100\n",
            "7/7 [==============================] - 0s 24ms/step - loss: 1.2513 - acc: 0.5000\n",
            "Epoch 35/100\n",
            "7/7 [==============================] - 0s 24ms/step - loss: 1.2274 - acc: 0.5300\n",
            "Epoch 36/100\n",
            "7/7 [==============================] - 0s 25ms/step - loss: 1.2175 - acc: 0.5500\n",
            "Epoch 37/100\n",
            "7/7 [==============================] - 0s 25ms/step - loss: 1.2027 - acc: 0.5750\n",
            "Epoch 38/100\n",
            "7/7 [==============================] - 0s 25ms/step - loss: 1.1925 - acc: 0.5550\n",
            "Epoch 39/100\n",
            "7/7 [==============================] - 0s 25ms/step - loss: 1.1813 - acc: 0.5750\n",
            "Epoch 40/100\n",
            "7/7 [==============================] - 0s 24ms/step - loss: 1.1614 - acc: 0.5850\n",
            "Epoch 41/100\n",
            "7/7 [==============================] - 0s 23ms/step - loss: 1.1430 - acc: 0.5650\n",
            "Epoch 42/100\n",
            "7/7 [==============================] - 0s 25ms/step - loss: 1.1410 - acc: 0.5900\n",
            "Epoch 43/100\n",
            "7/7 [==============================] - 0s 24ms/step - loss: 1.1261 - acc: 0.5850\n",
            "Epoch 44/100\n",
            "7/7 [==============================] - 0s 25ms/step - loss: 1.0980 - acc: 0.5700\n",
            "Epoch 45/100\n",
            "7/7 [==============================] - 0s 25ms/step - loss: 1.0845 - acc: 0.5950\n",
            "Epoch 46/100\n",
            "7/7 [==============================] - 0s 24ms/step - loss: 1.0748 - acc: 0.6000\n",
            "Epoch 47/100\n",
            "7/7 [==============================] - 0s 25ms/step - loss: 1.0669 - acc: 0.5850\n",
            "Epoch 48/100\n",
            "7/7 [==============================] - 0s 24ms/step - loss: 1.0673 - acc: 0.5800\n",
            "Epoch 49/100\n",
            "7/7 [==============================] - 0s 23ms/step - loss: 1.0460 - acc: 0.6150\n",
            "Epoch 50/100\n",
            "7/7 [==============================] - 0s 24ms/step - loss: 1.0123 - acc: 0.6150\n",
            "Epoch 51/100\n",
            "7/7 [==============================] - 0s 26ms/step - loss: 1.0158 - acc: 0.5750\n",
            "Epoch 52/100\n",
            "7/7 [==============================] - 0s 24ms/step - loss: 0.9917 - acc: 0.5950\n",
            "Epoch 53/100\n",
            "7/7 [==============================] - 0s 24ms/step - loss: 0.9832 - acc: 0.6100\n",
            "Epoch 54/100\n",
            "7/7 [==============================] - 0s 25ms/step - loss: 0.9740 - acc: 0.6000\n",
            "Epoch 55/100\n",
            "7/7 [==============================] - 0s 25ms/step - loss: 0.9739 - acc: 0.6100\n",
            "Epoch 56/100\n",
            "7/7 [==============================] - 0s 25ms/step - loss: 0.9464 - acc: 0.6250\n",
            "Epoch 57/100\n",
            "7/7 [==============================] - 0s 24ms/step - loss: 0.9556 - acc: 0.6100\n",
            "Epoch 58/100\n",
            "7/7 [==============================] - 0s 23ms/step - loss: 0.9232 - acc: 0.6450\n",
            "Epoch 59/100\n",
            "7/7 [==============================] - 0s 25ms/step - loss: 0.9032 - acc: 0.6200\n",
            "Epoch 60/100\n",
            "7/7 [==============================] - 0s 24ms/step - loss: 0.9018 - acc: 0.6350\n",
            "Epoch 61/100\n",
            "7/7 [==============================] - 0s 25ms/step - loss: 0.8851 - acc: 0.6300\n",
            "Epoch 62/100\n",
            "7/7 [==============================] - 0s 25ms/step - loss: 0.8767 - acc: 0.6500\n",
            "Epoch 63/100\n",
            "7/7 [==============================] - 0s 25ms/step - loss: 0.8673 - acc: 0.6150\n",
            "Epoch 64/100\n",
            "7/7 [==============================] - 0s 26ms/step - loss: 0.8561 - acc: 0.6350\n",
            "Epoch 65/100\n",
            "7/7 [==============================] - 0s 25ms/step - loss: 0.8513 - acc: 0.6700\n",
            "Epoch 66/100\n",
            "7/7 [==============================] - 0s 25ms/step - loss: 0.8272 - acc: 0.6600\n",
            "Epoch 67/100\n",
            "7/7 [==============================] - 0s 24ms/step - loss: 0.8306 - acc: 0.6600\n",
            "Epoch 68/100\n",
            "7/7 [==============================] - 0s 26ms/step - loss: 0.8143 - acc: 0.6750\n",
            "Epoch 69/100\n",
            "7/7 [==============================] - 0s 24ms/step - loss: 0.7952 - acc: 0.6800\n",
            "Epoch 70/100\n",
            "7/7 [==============================] - 0s 25ms/step - loss: 0.7961 - acc: 0.6750\n",
            "Epoch 71/100\n",
            "7/7 [==============================] - 0s 25ms/step - loss: 0.8053 - acc: 0.6700\n",
            "Epoch 72/100\n",
            "7/7 [==============================] - 0s 24ms/step - loss: 0.8058 - acc: 0.6700\n",
            "Epoch 73/100\n",
            "7/7 [==============================] - 0s 25ms/step - loss: 0.7482 - acc: 0.7100\n",
            "Epoch 74/100\n",
            "7/7 [==============================] - 0s 24ms/step - loss: 0.7564 - acc: 0.6750\n",
            "Epoch 75/100\n",
            "7/7 [==============================] - 0s 25ms/step - loss: 0.7401 - acc: 0.7350\n",
            "Epoch 76/100\n",
            "7/7 [==============================] - 0s 25ms/step - loss: 0.7502 - acc: 0.6800\n",
            "Epoch 77/100\n",
            "7/7 [==============================] - 0s 25ms/step - loss: 0.7405 - acc: 0.7000\n",
            "Epoch 78/100\n",
            "7/7 [==============================] - 0s 25ms/step - loss: 0.7305 - acc: 0.7200\n",
            "Epoch 79/100\n",
            "7/7 [==============================] - 0s 25ms/step - loss: 0.7144 - acc: 0.7250\n",
            "Epoch 80/100\n",
            "7/7 [==============================] - 0s 24ms/step - loss: 0.7056 - acc: 0.7300\n",
            "Epoch 81/100\n",
            "7/7 [==============================] - 0s 25ms/step - loss: 0.6879 - acc: 0.7400\n",
            "Epoch 82/100\n",
            "7/7 [==============================] - 0s 23ms/step - loss: 0.6928 - acc: 0.7350\n",
            "Epoch 83/100\n",
            "7/7 [==============================] - 0s 24ms/step - loss: 0.6779 - acc: 0.7350\n",
            "Epoch 84/100\n",
            "7/7 [==============================] - 0s 23ms/step - loss: 0.6871 - acc: 0.7250\n",
            "Epoch 85/100\n",
            "7/7 [==============================] - 0s 25ms/step - loss: 0.6643 - acc: 0.7450\n",
            "Epoch 86/100\n",
            "7/7 [==============================] - 0s 24ms/step - loss: 0.6628 - acc: 0.7350\n",
            "Epoch 87/100\n",
            "7/7 [==============================] - 0s 26ms/step - loss: 0.6526 - acc: 0.7400\n",
            "Epoch 88/100\n",
            "7/7 [==============================] - 0s 25ms/step - loss: 0.6310 - acc: 0.7700\n",
            "Epoch 89/100\n",
            "7/7 [==============================] - 0s 25ms/step - loss: 0.6546 - acc: 0.7600\n",
            "Epoch 90/100\n",
            "7/7 [==============================] - 0s 25ms/step - loss: 0.6524 - acc: 0.7400\n",
            "Epoch 91/100\n",
            "7/7 [==============================] - 0s 25ms/step - loss: 0.6236 - acc: 0.8000\n",
            "Epoch 92/100\n",
            "7/7 [==============================] - 0s 23ms/step - loss: 0.6212 - acc: 0.7500\n",
            "Epoch 93/100\n",
            "7/7 [==============================] - 0s 25ms/step - loss: 0.6074 - acc: 0.7750\n",
            "Epoch 94/100\n",
            "7/7 [==============================] - 0s 25ms/step - loss: 0.6232 - acc: 0.7800\n",
            "Epoch 95/100\n",
            "7/7 [==============================] - 0s 24ms/step - loss: 0.5963 - acc: 0.7600\n",
            "Epoch 96/100\n",
            "7/7 [==============================] - 0s 24ms/step - loss: 0.5822 - acc: 0.7750\n",
            "Epoch 97/100\n",
            "7/7 [==============================] - 0s 25ms/step - loss: 0.6078 - acc: 0.7750\n",
            "Epoch 98/100\n",
            "7/7 [==============================] - 0s 24ms/step - loss: 0.5693 - acc: 0.7950\n",
            "Epoch 99/100\n",
            "7/7 [==============================] - 0s 25ms/step - loss: 0.5742 - acc: 0.7700\n",
            "Epoch 100/100\n",
            "7/7 [==============================] - 0s 25ms/step - loss: 0.5727 - acc: 0.7750\n"
          ]
        }
      ]
    },
    {
      "cell_type": "markdown",
      "metadata": {
        "id": "q9RVe2MRKPU5"
      },
      "source": [
        "***Plotting***"
      ]
    },
    {
      "cell_type": "code",
      "metadata": {
        "colab": {
          "base_uri": "https://localhost:8080/",
          "height": 281
        },
        "id": "61K7ULmDKOsX",
        "outputId": "a06242e5-5f87-4dc5-da28-e199d380d0d3"
      },
      "source": [
        "import matplotlib.pyplot as plt\n",
        "\n",
        "acc = history.history['acc']\n",
        "loss = history.history['loss']\n",
        "\n",
        "epochs = range(1, len(acc) + 1)\n",
        "\n",
        "plt.plot(epochs, loss, 'r', label='Training loss')\n",
        "plt.title('Training loss')\n",
        "plt.legend()\n",
        "plt.grid(True)\n",
        "\n",
        "plt.show()"
      ],
      "execution_count": null,
      "outputs": [
        {
          "output_type": "display_data",
          "data": {
            "image/png": "[encoded data removed]",
            "text/plain": [
              "<Figure size 432x288 with 1 Axes>"
            ]
          },
          "metadata": {
            "needs_background": "light"
          }
        }
      ]
    },
    {
      "cell_type": "code",
      "metadata": {
        "colab": {
          "base_uri": "https://localhost:8080/",
          "height": 281
        },
        "id": "yBLFu6cpKnhN",
        "outputId": "940cdeaf-ea66-4cf9-b445-dfc07380aff9"
      },
      "source": [
        "plt.plot(epochs, acc, 'r', label='Training accuracy')\n",
        "plt.title('Training accuracy')\n",
        "plt.legend()\n",
        "plt.grid(True)\n",
        "\n",
        "plt.show()"
      ],
      "execution_count": null,
      "outputs": [
        {
          "output_type": "display_data",
          "data": {
            "image/png": "[encoded data removed]",
            "text/plain": [
              "<Figure size 432x288 with 1 Axes>"
            ]
          },
          "metadata": {
            "needs_background": "light"
          }
        }
      ]
    },
    {
      "cell_type": "code",
      "metadata": {
        "colab": {
          "base_uri": "https://localhost:8080/"
        },
        "id": "1U_v0qpeK-5I",
        "outputId": "1ebadd84-fbb1-4517-8b2f-27e6e7b70c4e"
      },
      "source": [
        "result_nn_model = model.evaluate(x_test,y_test)"
      ],
      "execution_count": null,
      "outputs": [
        {
          "output_type": "stream",
          "name": "stdout",
          "text": [
            "2/2 [==============================] - 0s 16ms/step - loss: 0.7478 - acc: 0.7258\n"
          ]
        }
      ]
    },
    {
      "cell_type": "markdown",
      "metadata": {
        "id": "BMZot7aojAYF"
      },
      "source": [
        "***We reached 72% accuracy on the testing data***"
      ]
    }
  ]
}
